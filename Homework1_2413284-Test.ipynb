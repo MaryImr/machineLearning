{
 "cells": [
  {
   "cell_type": "code",
   "execution_count": 1,
   "id": "d1674224",
   "metadata": {},
   "outputs": [
    {
     "name": "stdout",
     "output_type": "stream",
     "text": [
      "zsh:1: command not found: nvidia-smi\r\n"
     ]
    }
   ],
   "source": [
    "!nvidia-smi"
   ]
  },
  {
   "cell_type": "code",
   "execution_count": 2,
   "id": "c86d0da2",
   "metadata": {},
   "outputs": [
    {
     "name": "stdout",
     "output_type": "stream",
     "text": [
      "Defaulting to user installation because normal site-packages is not writeable\r\n",
      "Requirement already satisfied: tqdm in /Users/maryamimran/Library/Python/3.8/lib/python/site-packages (4.62.3)\r\n"
     ]
    }
   ],
   "source": [
    "!/Applications/Xcode.app/Contents/Developer/usr/bin/python3 -m pip install tqdm"
   ]
  },
  {
   "cell_type": "code",
   "execution_count": 12,
   "id": "3cc8db10",
   "metadata": {},
   "outputs": [],
   "source": [
    "# Import the required modules\n",
    "import torch\n",
    "import torch.nn as nn\n",
    "import torch.nn.functional as F\n",
    "import torchvision.transforms as T\n",
    "from torchvision.datasets import MNIST\n",
    "from torch.utils.data import random_split, DataLoader\n",
    "import torch.optim as optim\n",
    "from tqdm import tqdm"
   ]
  },
  {
   "cell_type": "code",
   "execution_count": 13,
   "id": "1b8b9572",
   "metadata": {},
   "outputs": [
    {
     "data": {
      "text/plain": [
       "<torch._C.Generator at 0x1073e4ad0>"
      ]
     },
     "execution_count": 13,
     "metadata": {},
     "output_type": "execute_result"
    }
   ],
   "source": [
    "# Fix the randomness\n",
    "seed = 80\n",
    "torch.manual_seed(seed)"
   ]
  },
  {
   "cell_type": "code",
   "execution_count": 14,
   "id": "491735cd",
   "metadata": {},
   "outputs": [
    {
     "name": "stdout",
     "output_type": "stream",
     "text": [
      "Files already downloaded and verified\n",
      "Files already downloaded and verified\n"
     ]
    }
   ],
   "source": [
    "from torchvision.datasets import CIFAR10 \n",
    "import torchvision.transforms as T\n",
    "train_transform = T.Compose([\n",
    "# can add additional transforms on images \n",
    "    T.ToTensor(), # convert images to PyTorch tensors\n",
    "    T.Grayscale(), # RGB to grayscale \n",
    "    T.Normalize(mean=(0.5,), std=(0.5,)) # normalization\n",
    "# speeds up the convergence # and improves the accuracy\n",
    "])\n",
    "val_transform = test_transform = T.Compose([ \n",
    "    T.ToTensor(),\n",
    "    T.Grayscale(), \n",
    "    T.Normalize(mean=(0.5,), std=(0.5,))\n",
    "])\n",
    "train_set = CIFAR10(root='CIFAR10' , train=True , transform=train_transform , download=True) \n",
    "test_set = CIFAR10(root='CIFAR10'  , train=False, transform=test_transform , download=True)\n",
    "\n",
    "train_set_length = int(0.8 * len(train_set))\n",
    "val_set_length = len(train_set) - train_set_length\n",
    "\n",
    "train_set, val_set = random_split(train_set, [train_set_length, val_set_length])\n"
   ]
  },
  {
   "cell_type": "code",
   "execution_count": 15,
   "id": "edc6f32f",
   "metadata": {},
   "outputs": [],
   "source": [
    "batch_size = 8\n",
    "train_loader = DataLoader(train_set, batch_size=batch_size, shuffle=True)\n",
    "val_loader = DataLoader(val_set, batch_size=batch_size*2, shuffle=True)\n",
    "test_loader = DataLoader(train_set, batch_size=batch_size*2, shuffle=True)\n",
    "\n",
    "\n",
    "classes = ('plane', 'car', 'bird', 'cat', 'deer', 'dog', 'frog', 'horse', 'ship', 'truck')"
   ]
  },
  {
   "cell_type": "code",
   "execution_count": 16,
   "id": "9e5bf762",
   "metadata": {
    "scrolled": true
   },
   "outputs": [
    {
     "name": "stdout",
     "output_type": "stream",
     "text": [
      "[tensor([[[[-1.0000, -0.9373, -0.8196,  ..., -0.6950, -0.7735, -0.8613],\n",
      "          [-1.0000, -0.9922, -0.9843,  ..., -0.5348, -0.6447, -0.7740],\n",
      "          [-0.9922, -0.9922, -0.9922,  ..., -0.3830, -0.3761, -0.6747],\n",
      "          ...,\n",
      "          [-1.0000, -1.0000, -0.9922,  ..., -0.3196, -0.3343, -0.3477],\n",
      "          [-1.0000, -0.9922, -0.9922,  ..., -0.5957, -0.6059, -0.6216],\n",
      "          [-1.0000, -0.9922, -0.9922,  ..., -0.8419, -0.8498, -0.8654]]],\n",
      "\n",
      "\n",
      "        [[[-0.2866, -0.1981,  0.1816,  ...,  0.7780,  0.6996,  0.6899],\n",
      "          [-0.1551, -0.1073,  0.1643,  ...,  0.8509,  0.8499,  0.8448],\n",
      "          [ 0.4708,  0.4666,  0.5000,  ...,  0.8915,  0.9033,  0.9181],\n",
      "          ...,\n",
      "          [ 0.2376,  0.2464,  0.2601,  ..., -0.3847, -0.3277, -0.4369],\n",
      "          [ 0.0098,  0.0995,  0.2864,  ..., -0.5426, -0.5025, -0.5543],\n",
      "          [ 0.1257,  0.4984,  0.4848,  ..., -0.5643, -0.6290, -0.6014]]],\n",
      "\n",
      "\n",
      "        [[[-0.2887, -0.2495, -0.2149,  ..., -0.7050, -0.6677, -0.6934],\n",
      "          [-0.2306, -0.2227, -0.2149,  ..., -0.7271, -0.6944, -0.6833],\n",
      "          [-0.1600, -0.1914, -0.1992,  ..., -0.7280, -0.7226, -0.7312],\n",
      "          ...,\n",
      "          [-0.2942, -0.6165, -0.6299,  ..., -0.8884, -0.8884, -0.8774],\n",
      "          [-0.4973, -0.6428, -0.6446,  ..., -0.8833, -0.8833, -0.8754],\n",
      "          [-0.6980, -0.6501, -0.6938,  ..., -0.8735, -0.8735, -0.8735]]],\n",
      "\n",
      "\n",
      "        ...,\n",
      "\n",
      "\n",
      "        [[[-0.1788, -0.0188,  0.0238,  ..., -0.0451, -0.1298, -0.3453],\n",
      "          [-0.0139,  0.0614,  0.0164,  ..., -0.0264, -0.1607, -0.2826],\n",
      "          [ 0.1395,  0.2328,  0.0165,  ..., -0.1710, -0.2452, -0.2757],\n",
      "          ...,\n",
      "          [ 0.1851, -0.0265,  0.0269,  ...,  0.5210,  0.5054,  0.5577],\n",
      "          [ 0.2068,  0.1618,  0.1865,  ...,  0.4313,  0.4834,  0.5524],\n",
      "          [ 0.2147,  0.1943,  0.3365,  ...,  0.4546,  0.4556,  0.4798]]],\n",
      "\n",
      "\n",
      "        [[[-0.0102, -0.0261, -0.0210,  ..., -0.0350, -0.0215, -0.0474],\n",
      "          [ 0.0377,  0.0279,  0.0262,  ..., -0.0195, -0.0333, -0.0396],\n",
      "          [ 0.0573,  0.0387,  0.0487,  ..., -0.0113, -0.0140, -0.0157],\n",
      "          ...,\n",
      "          [-0.0320, -0.0320, -0.0320,  ..., -0.1288, -0.1445, -0.1445],\n",
      "          [ 0.0014, -0.0088, -0.0324,  ..., -0.1186, -0.1053, -0.1288],\n",
      "          [-0.0207, -0.0434, -0.0544,  ..., -0.1445, -0.1367, -0.1593]]],\n",
      "\n",
      "\n",
      "        [[[ 0.4283,  0.4205,  0.4274,  ...,  0.4983,  0.4946,  0.5443],\n",
      "          [ 0.4519,  0.4362,  0.4362,  ...,  0.5227,  0.5181,  0.5576],\n",
      "          [ 0.4440,  0.4283,  0.4362,  ...,  0.5227,  0.5227,  0.5521],\n",
      "          ...,\n",
      "          [-0.0838, -0.0806, -0.0736,  ..., -0.0097,  0.0091,  0.0451],\n",
      "          [-0.0815, -0.0893, -0.0824,  ..., -0.0199,  0.0272,  0.0138],\n",
      "          [-0.0763, -0.1053, -0.1053,  ..., -0.0221, -0.0402, -0.0512]]]]), tensor([7, 4, 5, 8, 4, 4, 0, 8])]\n"
     ]
    }
   ],
   "source": [
    "for data in train_loader:\n",
    "    print(data)\n",
    "    break"
   ]
  },
  {
   "cell_type": "code",
   "execution_count": 17,
   "id": "c8106410",
   "metadata": {},
   "outputs": [],
   "source": [
    "#defining parameters\n",
    "activation_functions = ['relu', 'sigmoid', 'Tanh']\n",
    "learning_rates = [5e-3, 1e-3, 5e-4]\n",
    "number_of_layers = [1, 2, 3, 4] "
   ]
  },
  {
   "cell_type": "code",
   "execution_count": 18,
   "id": "d6b60245",
   "metadata": {
    "scrolled": true
   },
   "outputs": [
    {
     "name": "stdout",
     "output_type": "stream",
     "text": [
      "MY_ANN(\n",
      "  (deep_nn): Sequential(\n",
      "    (fc1): Linear(in_features=1024, out_features=512, bias=True)\n",
      "    (fc2): Linear(in_features=512, out_features=256, bias=True)\n",
      "    (fc3): Linear(in_features=256, out_features=10, bias=True)\n",
      "  )\n",
      ")\n"
     ]
    }
   ],
   "source": [
    "device = 'cuda' if torch.cuda.is_available() else 'cpu'\n",
    "\n",
    "class MY_ANN(nn.Module):\n",
    "    def __init__(self, input_size, output_size, total_hidden_layers):\n",
    "        super(MY_ANN, self).__init__()\n",
    "        self.total_hidden_layers = total_hidden_layers\n",
    "        self.deep_nn = nn.Sequential()\n",
    "        \n",
    "        for i in range(total_hidden_layers):\n",
    "            \n",
    "            if i+1 == total_hidden_layers:\n",
    "                self.deep_nn.add_module(f'fc{i+1}',nn.Linear(input_size,output_size))\n",
    "                \n",
    "            else:\n",
    "                self.deep_nn.add_module(f'fc{i+1}',nn.Linear(input_size,input_size//2))\n",
    "                input_size = input_size//2\n",
    "    \n",
    "    def forward(self, x, activation_function):\n",
    "        \n",
    "        total_iterations_next = (self.total_hidden_layers)\n",
    "        x = torch.flatten(x, 1)\n",
    "        \n",
    "        for i in range(total_iterations_next-1):\n",
    "            if activation_function == activation_functions[0]:\n",
    "                x = F.relu(self.deep_nn[i](x))\n",
    "            elif activation_function == activation_functions[1]:\n",
    "                x = F.sigmoid(self.deep_nn[i](x))\n",
    "            elif activation_function == activation_functions[2]:\n",
    "                x = F.tanh(self.deep_nn[i](x))  \n",
    "            \n",
    "        x = self.deep_nn[total_iterations_next-1](x)     \n",
    "        return x\n",
    "            \n",
    "    def actual_training(self, learning_rate, activation_function, train_loader):\n",
    "        \n",
    "        optimizer = optim.Adam(self.parameters(),learning_rate)\n",
    "        epochs = 7\n",
    "        loss = nn.CrossEntropyLoss()\n",
    "        \n",
    "        for epoch in range(epochs):\n",
    "            \n",
    "            for picture in train_loader:\n",
    "                X, Y = picture\n",
    "                X, Y = X.to(device), Y.to(device)\n",
    "                output = self.forward(X, activation_function)\n",
    "                our_loss = loss(output,Y)\n",
    "                optimizer.zero_grad()\n",
    "                our_loss.backward()\n",
    "                optimizer.step()\n",
    "                \n",
    "    def evaluation(self, val_loader, activation_function):\n",
    "        total_guesses = 0\n",
    "        correct_guesses = 0\n",
    "        accumulative_loss = 0\n",
    "        \n",
    "        loss = nn.CrossEntropyLoss()\n",
    "        \n",
    "        with torch.no_grad():\n",
    "            for picture in val_loader:\n",
    "                X, Y = picture\n",
    "                output = self.forward(X, activation_function)\n",
    "                \n",
    "                for index, i in enumerate(output):\n",
    "    \n",
    "                    total_guesses = total_guesses + 1\n",
    "                    \n",
    "                    if torch.argmax(i) == Y[index]:\n",
    "                        correct_guesses = correct_guesses + 1\n",
    "                        \n",
    "                accumulative_loss = accumulative_loss + loss(self.forward(X, activation_function), Y)\n",
    "                \n",
    "        loss = accumulative_loss / len(val_set)\n",
    "        return round(correct_guesses/total_guesses, 3), loss\n",
    "\n",
    "net = MY_ANN(32*32, 10, 3)\n",
    "print(net)            \n",
    "                "
   ]
  },
  {
   "cell_type": "code",
   "execution_count": 19,
   "id": "6aaf3e8b",
   "metadata": {},
   "outputs": [
    {
     "name": "stdout",
     "output_type": "stream",
     "text": [
      "Accuracy:  0.095\n",
      "Loss:  tensor(2.3059)\n"
     ]
    }
   ],
   "source": [
    "total_guesses = 0\n",
    "correct_guesses = 0\n",
    "accumulative_loss = 0\n",
    "\n",
    "loss = nn.CrossEntropyLoss()\n",
    "\n",
    "with torch.no_grad():\n",
    "    for picture in train_loader:\n",
    "        X, Y = picture\n",
    "        output = net.forward(X, activation_functions[0])\n",
    "        #print(output)\n",
    "        for index, i in enumerate(output):\n",
    "            total_guesses = total_guesses + 1\n",
    "            \n",
    "            if torch.argmax(i) == Y[index]:\n",
    "                correct_guesses = correct_guesses + 1 \n",
    "\n",
    "        accumulative_loss = accumulative_loss + loss(net.forward(X, activation_functions[0]), Y)\n",
    "        \n",
    "print(\"Accuracy: \", round(correct_guesses/total_guesses, 3))\n",
    "loss = accumulative_loss / len(train_loader)\n",
    "print(\"Loss: \", loss)\n",
    "\n"
   ]
  },
  {
   "cell_type": "code",
   "execution_count": 20,
   "id": "0db17d20",
   "metadata": {},
   "outputs": [
    {
     "name": "stdout",
     "output_type": "stream",
     "text": [
      "1 relu 0.005 tensor(0.2370)\n",
      "1 relu 0.001 tensor(0.3125)\n",
      "1 relu 0.0005 tensor(0.3181)\n",
      "1 sigmoid 0.005 tensor(0.2439)\n",
      "1 sigmoid 0.001 tensor(0.3072)\n",
      "1 sigmoid 0.0005 tensor(0.3101)\n",
      "1 Tanh 0.005 tensor(0.2341)\n",
      "1 Tanh 0.001 tensor(0.3020)\n",
      "1 Tanh 0.0005 tensor(0.3132)\n",
      "2 relu 0.005 tensor(0.3317)\n",
      "2 relu 0.001 tensor(0.5333)\n",
      "2 relu 0.0005 tensor(0.5708)\n",
      "2 sigmoid 0.005 tensor(0.3187)\n",
      "2 sigmoid 0.001 tensor(0.5753)\n",
      "2 sigmoid 0.0005 tensor(0.5282)\n",
      "2 Tanh 0.005 tensor(0.2145)\n",
      "2 Tanh 0.001 tensor(0.4566)\n",
      "2 Tanh 0.0005 tensor(0.5490)\n",
      "3 relu 0.005 tensor(0.1628)\n",
      "3 relu 0.001 tensor(0.5136)\n",
      "3 relu 0.0005 tensor(0.6059)\n",
      "3 sigmoid 0.005 tensor(0.2888)\n",
      "3 sigmoid 0.001 tensor(0.5176)\n",
      "3 sigmoid 0.0005 tensor(0.5117)\n",
      "3 Tanh 0.005 tensor(0.2161)\n",
      "3 Tanh 0.001 tensor(0.4196)\n",
      "3 Tanh 0.0005 tensor(0.5511)\n",
      "4 relu 0.005 tensor(0.1087)\n",
      "4 relu 0.001 tensor(0.5225)\n",
      "4 relu 0.0005 tensor(0.6046)\n",
      "4 sigmoid 0.005 tensor(0.2982)\n",
      "4 sigmoid 0.001 tensor(0.4981)\n",
      "4 sigmoid 0.0005 tensor(0.5055)\n",
      "4 Tanh 0.005 tensor(0.2015)\n",
      "4 Tanh 0.001 tensor(0.3935)\n",
      "4 Tanh 0.0005 tensor(0.5119)\n"
     ]
    }
   ],
   "source": [
    "for layer in number_of_layers:\n",
    "    for activation_func in activation_functions:\n",
    "        for learning_rate in learning_rates:\n",
    "            net = MY_ANN(32*32, 10, layer)\n",
    "            net.actual_training(learning_rate, activation_func, train_loader)\n",
    "            validation_accuracy, validation_loss = net.evaluation(val_loader, activation_func) \n",
    "            #print(no_layer, activation_func, learning_rate, validation_accuracy, validation_loss)\n",
    "            #grid_dictionary[no_layer, activation_func, learning_rate] = [validation_accuracy, validation_loss]\n",
    "            \n",
    "            total_guesses = 0\n",
    "            correct_guesses = 0\n",
    "            \n",
    "            net.eval()\n",
    "            with torch.no_grad():\n",
    "                for picture in test_loader:\n",
    "                    X, Y = picture\n",
    "                    output = net.forward(X, activation_func)\n",
    "                    \n",
    "                    _, predicted = torch.max(output.data, 1)\n",
    "                    total_guesses += Y.size(0)\n",
    "                    correct_guesses += (predicted == Y).sum()\n",
    "                    \n",
    "            print(layer, activation_func, learning_rate, correct_guesses/total_guesses)        \n",
    "            #print('Accuracy of the network on the 10000 test images: %d %%' % (correct / total))\n"
   ]
  },
  {
   "cell_type": "code",
   "execution_count": null,
   "id": "e34899ad",
   "metadata": {},
   "outputs": [],
   "source": []
  }
 ],
 "metadata": {
  "kernelspec": {
   "display_name": "Python 3 (ipykernel)",
   "language": "python",
   "name": "python3"
  },
  "language_info": {
   "codemirror_mode": {
    "name": "ipython",
    "version": 3
   },
   "file_extension": ".py",
   "mimetype": "text/x-python",
   "name": "python",
   "nbconvert_exporter": "python",
   "pygments_lexer": "ipython3",
   "version": "3.8.9"
  }
 },
 "nbformat": 4,
 "nbformat_minor": 5
}
