{
 "cells": [
  {
   "cell_type": "code",
   "execution_count": 34,
   "id": "f717c512",
   "metadata": {},
   "outputs": [
    {
     "name": "stdout",
     "output_type": "stream",
     "text": [
      "(1000, 32, 32)\n"
     ]
    }
   ],
   "source": [
    "import numpy as np\n",
    "train_set = np.load('hw3_material/svm/task3/train_set.npy') \n",
    "train_lbs = np.load('hw3_material/svm/task3/train_labels.npy')\n",
    "\n",
    "test_set = np.load('hw3_material/svm/task3/test_set.npy')\n",
    "test_labels = np.load('hw3_material/svm/task3/test_labels.npy')\n",
    "print(test_set.shape)"
   ]
  },
  {
   "cell_type": "code",
   "execution_count": 7,
   "id": "5cd8aa93",
   "metadata": {},
   "outputs": [],
   "source": [
    "import matplotlib.pyplot as plt\n",
    "from sklearn import svm\n",
    "from sklearn.svm import SVC\n",
    "from sklearn.model_selection import train_test_split\n",
    "from sklearn import metrics"
   ]
  },
  {
   "cell_type": "code",
   "execution_count": 24,
   "id": "9f7d44e1",
   "metadata": {},
   "outputs": [],
   "source": [
    "X_train, X_val, Y_train, Y_val = train_test_split(train_set, train_lbs, test_size=0.3,random_state=100)\n",
    "\n",
    "no_of_samples, x, y = X_train.shape\n",
    "X_train = X_train.reshape((no_of_samples,x*y))\n",
    "\n",
    "no_of_samples, x, y = X_val.shape\n",
    "X_val = X_val.reshape((no_of_samples,x*y))"
   ]
  },
  {
   "cell_type": "code",
   "execution_count": 26,
   "id": "4e14c1a2",
   "metadata": {},
   "outputs": [],
   "source": [
    "kernels = ['linear', 'poly','rbf']\n",
    "Cs = [0.1, 1, 10]\n",
    "Gammas = [0.01, 100]"
   ]
  },
  {
   "cell_type": "code",
   "execution_count": 27,
   "id": "46ae0138",
   "metadata": {},
   "outputs": [
    {
     "name": "stdout",
     "output_type": "stream",
     "text": [
      "Kernel = linear, C = 0.1, Gamma = 0.01\n",
      "Accuracy: 0.7466666666666667\n",
      "Kernel = linear, C = 0.1, Gamma = 100\n",
      "Accuracy: 0.7466666666666667\n",
      "Kernel = linear, C = 1, Gamma = 0.01\n",
      "Accuracy: 0.7166666666666667\n",
      "Kernel = linear, C = 1, Gamma = 100\n",
      "Accuracy: 0.7166666666666667\n",
      "Kernel = linear, C = 10, Gamma = 0.01\n",
      "Accuracy: 0.7\n",
      "Kernel = linear, C = 10, Gamma = 100\n",
      "Accuracy: 0.7\n",
      "Kernel = poly, C = 0.1, Gamma = 0.01\n",
      "Accuracy: 0.7566666666666667\n",
      "Kernel = poly, C = 0.1, Gamma = 100\n",
      "Accuracy: 0.7833333333333333\n",
      "Kernel = poly, C = 1, Gamma = 0.01\n",
      "Accuracy: 0.7933333333333333\n",
      "Kernel = poly, C = 1, Gamma = 100\n",
      "Accuracy: 0.7833333333333333\n",
      "Kernel = poly, C = 10, Gamma = 0.01\n",
      "Accuracy: 0.8033333333333333\n",
      "Kernel = poly, C = 10, Gamma = 100\n",
      "Accuracy: 0.7833333333333333\n",
      "Kernel = rbf, C = 0.1, Gamma = 0.01\n",
      "Accuracy: 0.7466666666666667\n",
      "Kernel = rbf, C = 0.1, Gamma = 100\n",
      "Accuracy: 0.49333333333333335\n",
      "Kernel = rbf, C = 1, Gamma = 0.01\n",
      "Accuracy: 0.81\n",
      "Kernel = rbf, C = 1, Gamma = 100\n",
      "Accuracy: 0.49333333333333335\n",
      "Kernel = rbf, C = 10, Gamma = 0.01\n",
      "Accuracy: 0.8433333333333334\n",
      "Kernel = rbf, C = 10, Gamma = 100\n",
      "Accuracy: 0.49333333333333335\n"
     ]
    }
   ],
   "source": [
    "for k in kernels:\n",
    "    for Cval in Cs:\n",
    "        for g in Gammas:\n",
    "            clf = SVC(kernel=k, C=Cval, gamma=g)\n",
    "            clf = clf.fit(X_train, Y_train)\n",
    "            predictions = clf.predict(X_val)\n",
    "            print(f'Kernel = {k}, C = {Cval}, Gamma = {g}')\n",
    "            print(\"Accuracy:\",metrics.accuracy_score(Y_val, predictions))"
   ]
  },
  {
   "cell_type": "code",
   "execution_count": 35,
   "id": "c4339eda",
   "metadata": {},
   "outputs": [
    {
     "name": "stdout",
     "output_type": "stream",
     "text": [
      "Test Accuracy: 0.815\n"
     ]
    }
   ],
   "source": [
    "#best config = kernel - rbf, C - 10, Gamma - 0.01\n",
    "\n",
    "no_of_samples, x, y = test_set.shape\n",
    "test_set = test_set.reshape((no_of_samples,x*y))\n",
    "\n",
    "clf = SVC(kernel='rbf', C=10, gamma=0.01)\n",
    "clf = clf.fit(X_train, Y_train)\n",
    "predictions = clf.predict(test_set)\n",
    "print(\"Test Accuracy:\",metrics.accuracy_score(test_labels, predictions))"
   ]
  },
  {
   "cell_type": "code",
   "execution_count": null,
   "id": "6a0a7121",
   "metadata": {},
   "outputs": [],
   "source": []
  }
 ],
 "metadata": {
  "kernelspec": {
   "display_name": "Python 3 (ipykernel)",
   "language": "python",
   "name": "python3"
  },
  "language_info": {
   "codemirror_mode": {
    "name": "ipython",
    "version": 3
   },
   "file_extension": ".py",
   "mimetype": "text/x-python",
   "name": "python",
   "nbconvert_exporter": "python",
   "pygments_lexer": "ipython3",
   "version": "3.8.9"
  }
 },
 "nbformat": 4,
 "nbformat_minor": 5
}
