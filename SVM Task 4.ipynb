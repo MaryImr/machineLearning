{
 "cells": [
  {
   "cell_type": "code",
   "execution_count": 13,
   "id": "179f82fb",
   "metadata": {},
   "outputs": [],
   "source": [
    "import numpy as np\n",
    "train_set = np.load('hw3_material/svm/task4/train_set.npy') \n",
    "train_lbs = np.load('hw3_material/svm/task4/train_labels.npy')\n",
    "\n",
    "test_set = np.load('hw3_material/svm/task4/test_set.npy')\n",
    "test_labels = np.load('hw3_material/svm/task4/test_labels.npy')\n"
   ]
  },
  {
   "cell_type": "code",
   "execution_count": 14,
   "id": "e6518f12",
   "metadata": {},
   "outputs": [],
   "source": [
    "import matplotlib.pyplot as plt\n",
    "from sklearn import svm\n",
    "from sklearn.svm import SVC\n",
    "from sklearn.model_selection import train_test_split\n",
    "from sklearn import metrics"
   ]
  },
  {
   "cell_type": "code",
   "execution_count": 15,
   "id": "0c081fea",
   "metadata": {},
   "outputs": [
    {
     "name": "stdout",
     "output_type": "stream",
     "text": [
      "[0.7019608  0.69411767 0.72549021 ... 0.30588236 0.29019609 0.29803923]\n"
     ]
    }
   ],
   "source": [
    "no_of_samples, x, y = test_set.shape\n",
    "test_set = test_set.reshape((no_of_samples,x*y))\n",
    "\n",
    "no_of_samples, x, y = train_set.shape\n",
    "train_set = train_set.reshape((no_of_samples,x*y))\n"
   ]
  },
  {
   "cell_type": "code",
   "execution_count": 16,
   "id": "f9ba2d39",
   "metadata": {},
   "outputs": [
    {
     "name": "stdout",
     "output_type": "stream",
     "text": [
      "Test Accuracy: 0.95\n",
      "Confusion Matrix:\n",
      " [[  0  50]\n",
      " [  0 950]]\n"
     ]
    }
   ],
   "source": [
    "#item 1\n",
    "clf = SVC(kernel='rbf', C=1)\n",
    "clf = clf.fit(train_set, train_lbs)\n",
    "predictions = clf.predict(test_set)\n",
    "print(\"Test Accuracy:\",metrics.accuracy_score(test_labels, predictions))\n",
    "print(\"Confusion Matrix:\\n\",metrics.confusion_matrix(test_labels, predictions))"
   ]
  },
  {
   "cell_type": "code",
   "execution_count": 29,
   "id": "ec9e8ab4",
   "metadata": {},
   "outputs": [
    {
     "name": "stdout",
     "output_type": "stream",
     "text": [
      "Test Accuracy: 0.951\n",
      "Confusion Matrix:\n",
      " [[ 12  38]\n",
      " [ 11 939]]\n"
     ]
    }
   ],
   "source": [
    "#item 2\n",
    "\n",
    "class0 = 0\n",
    "class1 = 0\n",
    "\n",
    "new_train_set = train_set\n",
    "new_train_lbs = train_lbs\n",
    "\n",
    "for label in train_lbs:\n",
    "    if(label == 0):\n",
    "        class0 += 1\n",
    "    elif(label == 1):\n",
    "        class1 += 1\n",
    "        \n",
    "if (class0 < class1):\n",
    "    min_class = 0\n",
    "elif (class1 < class0):\n",
    "    min_class = 1\n",
    "\n",
    "diff = abs(class0-class1)\n",
    "\n",
    "while(diff > 3):\n",
    "    for i in range(np.size(new_train_lbs)):\n",
    "        if(diff > 3):\n",
    "            if(new_train_lbs[i] == min_class):\n",
    "                new_train_lbs = np.append(new_train_lbs, new_train_lbs[i])\n",
    "                new_train_set = np.append(new_train_set, [new_train_set[i]], axis = 0)\n",
    "                diff -= 1\n",
    "\n",
    "clf = SVC(kernel='rbf', C=1)\n",
    "clf = clf.fit(new_train_set, new_train_lbs)\n",
    "predictions = clf.predict(test_set)\n",
    "print(\"Test Accuracy:\",metrics.accuracy_score(test_labels, predictions))\n",
    "print(\"Confusion Matrix:\\n\",metrics.confusion_matrix(test_labels, predictions))"
   ]
  },
  {
   "cell_type": "code",
   "execution_count": 31,
   "id": "09c581a9",
   "metadata": {},
   "outputs": [
    {
     "name": "stdout",
     "output_type": "stream",
     "text": [
      "Test Accuracy: 0.789\n",
      "Confusion Matrix:\n",
      " [[ 36  14]\n",
      " [197 753]]\n"
     ]
    }
   ],
   "source": [
    "#item 3\n",
    "\n",
    "class0 = 0\n",
    "class1 = 0\n",
    "\n",
    "new_train_set = train_set\n",
    "new_train_lbs = train_lbs\n",
    "\n",
    "for label in train_lbs:\n",
    "    if(label == 0):\n",
    "        class0 += 1\n",
    "    elif(label == 1):\n",
    "        class1 += 1\n",
    "        \n",
    "if (class0 > class1):\n",
    "    max_class = 0\n",
    "elif (class1 > class0):\n",
    "    max_class = 1\n",
    "\n",
    "diff = abs(class0-class1)\n",
    "\n",
    "while(diff > 3):\n",
    "    for i in range(np.size(new_train_lbs)):\n",
    "        if(i < np.size(new_train_lbs)):\n",
    "            if(diff > 3):\n",
    "                if(new_train_lbs[i] == max_class):\n",
    "                    new_train_lbs = np.delete(new_train_lbs, i)\n",
    "                    new_train_set = np.delete(new_train_set, i, axis = 0)\n",
    "                    diff -= 1\n",
    "\n",
    "clf = SVC(kernel='rbf', C=1)\n",
    "clf = clf.fit(new_train_set, new_train_lbs)\n",
    "predictions = clf.predict(test_set)\n",
    "print(\"Test Accuracy:\",metrics.accuracy_score(test_labels, predictions))\n",
    "print(\"Confusion Matrix:\\n\",metrics.confusion_matrix(test_labels, predictions))"
   ]
  },
  {
   "cell_type": "code",
   "execution_count": 8,
   "id": "15e9fcc3",
   "metadata": {},
   "outputs": [
    {
     "name": "stdout",
     "output_type": "stream",
     "text": [
      "Test Accuracy: 0.936\n",
      "Confusion Matrix:\n",
      " [[ 16  34]\n",
      " [ 30 920]]\n"
     ]
    }
   ],
   "source": [
    "#item 4\n",
    "clf = SVC(kernel='rbf', C=1, class_weight='balanced')\n",
    "clf = clf.fit(train_set, train_lbs)\n",
    "predictions = clf.predict(test_set)\n",
    "print(\"Test Accuracy:\",metrics.accuracy_score(test_labels, predictions))\n",
    "print(\"Confusion Matrix:\\n\",metrics.confusion_matrix(test_labels, predictions))"
   ]
  }
 ],
 "metadata": {
  "kernelspec": {
   "display_name": "Python 3 (ipykernel)",
   "language": "python",
   "name": "python3"
  },
  "language_info": {
   "codemirror_mode": {
    "name": "ipython",
    "version": 3
   },
   "file_extension": ".py",
   "mimetype": "text/x-python",
   "name": "python",
   "nbconvert_exporter": "python",
   "pygments_lexer": "ipython3",
   "version": "3.8.9"
  }
 },
 "nbformat": 4,
 "nbformat_minor": 5
}
