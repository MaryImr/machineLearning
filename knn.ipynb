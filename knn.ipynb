{
 "cells": [
  {
   "cell_type": "code",
   "execution_count": 12,
   "id": "e186494a",
   "metadata": {},
   "outputs": [],
   "source": [
    "import numpy as np\n",
    "import math as math\n",
    "import matplotlib.pyplot as plt\n",
    "\n",
    "#loading data\n",
    "\n",
    "train_s = np.load('hw2_material/knn/train_set.npy')\n",
    "train_l = np.load('hw2_material/knn/train_labels.npy')\n",
    "\n",
    "test_set = np.load('hw2_material/knn/test_set.npy') \n",
    "test_labels = np.load('hw2_material/knn/test_labels.npy')"
   ]
  },
  {
   "cell_type": "code",
   "execution_count": 2,
   "id": "d66e0f75",
   "metadata": {},
   "outputs": [],
   "source": [
    "def calculate_distances(train_data, test_instance, distance_metric):\n",
    "    \"\"\"\n",
    "    Calculates Manhattan (L1) / Euclidean (L2) distances between test_instance and every train instance.\n",
    "    :param train_data: An (N, D) shaped numpy array where N is the number of examples\n",
    "    and D is the dimension of the data.\n",
    "    :param test_instance: A (D, ) shaped numpy array.\n",
    "    :param distance_metric: A string which indicates the distance metric, it can be either 'L1' or 'L2'\n",
    "    :return: An (N, ) shaped numpy array that contains distances.\n",
    "    \"\"\"\n",
    "    distances = np.empty(0)\n",
    "    \n",
    "    if(distance_metric == 'L1'):\n",
    "        for train_instance in train_data:\n",
    "            a, b, c, d = train_instance\n",
    "            e, f, g, h = test_instance\n",
    "            distance = abs(a-e) + abs(b-f) + abs(c-g) + abs(d-h)\n",
    "            distances = np.append(distances, distance)\n",
    "        \n",
    "    elif(distance_metric == 'L2'):\n",
    "        for train_instance in train_data:\n",
    "            a, b, c, d = train_instance\n",
    "            e, f, g, h = test_instance\n",
    "            distance = math.sqrt(pow(a-e, 2) + pow(b-f, 2) + pow(c-g, 2) + pow(d-h, 2))\n",
    "            distances = np.append(distances, distance)\n",
    "    \n",
    "    return distances\n",
    "    "
   ]
  },
  {
   "cell_type": "code",
   "execution_count": 3,
   "id": "3feaadd5",
   "metadata": {},
   "outputs": [],
   "source": [
    "def majority_voting(distances, labels, k):\n",
    "    \"\"\"\n",
    "    Applies majority voting. If there are more then one major class, returns the smallest label.\n",
    "    :param distances: An (N, ) shaped numpy array that contains distances\n",
    "    :param labels: An (N, ) shaped numpy array that contains labels\n",
    "    :param k: An integer. The number of nearest neighbor to be selected.\n",
    "    :return: An integer. The label of the majority class.\n",
    "    \"\"\"\n",
    "    \n",
    "    smallest_distance_index = 0\n",
    "    smallest_distance = distances[0]\n",
    "    prev_smallest_distance_index = -1\n",
    "    j=0\n",
    "    \n",
    "    neighbours_classes = np.empty(0)\n",
    "    \n",
    "    for i in range(k):\n",
    "        for distance in distances:  #finding the smallest distances while making sure not the same distances are selected over and over again\n",
    "            if(j != prev_smallest_distance_index):\n",
    "                if(prev_smallest_distance_index != -1):\n",
    "                    if(distance > distances[prev_smallest_distance_index]):\n",
    "                        if(distance < smallest_distance):\n",
    "                            smallest_distance = distance\n",
    "                            smallest_distance_index = j\n",
    "                elif(distance < smallest_distance):\n",
    "                    smallest_distance = distance\n",
    "                    smallest_distance_index = j\n",
    "            j+=1\n",
    "        \n",
    "        neighbours_classes = np.append(neighbours_classes, labels[smallest_distance_index])  #making array of neighbours classes\n",
    "        prev_smallest_distance_index = smallest_distance_index\n",
    "        smallest_distance_index = 0\n",
    "        smallest_distance = distances[0]\n",
    "        j=0\n",
    "        \n",
    "    neighbours_classes = np.sort(neighbours_classes)\n",
    "    current_label = neighbours_classes[0]\n",
    "    smallest_label = neighbours_classes[0]\n",
    "    smallest_label_total = 0\n",
    "    current_label_total = 0\n",
    "    \n",
    "    \n",
    "    for label in neighbours_classes:  #finding smallest majority class in the neighbors classes\n",
    "        if(label == current_label):\n",
    "            current_label_total += 1\n",
    "            if(current_label_total > smallest_label_total):\n",
    "                smallest_label = current_label\n",
    "                smallest_label_total = current_label_total\n",
    "        elif(current_label_total > smallest_label_total):\n",
    "            smallest_label = current_label\n",
    "            smallest_label_total = current_label_total\n",
    "            current_label = label\n",
    "            current_label_total = 1\n",
    "        elif(current_label_total == smallest_label_total):\n",
    "            if(current_label < smallest_label):\n",
    "                smallest_label = current_label\n",
    "            current_label = label\n",
    "            current_label_total = 1\n",
    "        \n",
    "    return smallest_label\n",
    "    "
   ]
  },
  {
   "cell_type": "code",
   "execution_count": 4,
   "id": "566fab80",
   "metadata": {},
   "outputs": [],
   "source": [
    "def knn(train_data, train_labels, test_data, test_labels, k, distance_metric):\n",
    "    \"\"\"\n",
    "    Calculates accuracy of knn on test data using train_data.\n",
    "    :param train_data: An (N, D) shaped numpy array where N is the number of examples\n",
    "    and D is the dimension of the data\n",
    "    :param train_labels: An (N, ) shaped numpy array that contains labels\n",
    "    :param test_data: An (M, D) shaped numpy array where M is the number of examples\n",
    "    and D is the dimension of the data\n",
    "    :param test_labels: An (M, ) shaped numpy array that contains labels\n",
    "    :param k: An integer. The number of nearest neighbor to be selected.\n",
    "    :param distance_metric: A string which indicates the distance metric, it can be either 'L1' or 'L2'\n",
    "    :return: A float. The calculated accuracy.\n",
    "    \"\"\"\n",
    "    \n",
    "    total_guesses = 0\n",
    "    correct_guesses = 0\n",
    "    i=0\n",
    "    \n",
    "    for test_instance in test_data:  #calculating average accuracy over each test instance\n",
    "        distances_array = calculate_distances(train_data, test_instance, distance_metric)\n",
    "        major_class = majority_voting(distances_array, train_labels, k)\n",
    "        if(major_class == test_labels[i]):\n",
    "            correct_guesses+=1\n",
    "        total_guesses+=1\n",
    "        i+=1\n",
    "\n",
    "    return(correct_guesses/total_guesses)\n",
    "    "
   ]
  },
  {
   "cell_type": "code",
   "execution_count": 5,
   "id": "f3fba3a9",
   "metadata": {},
   "outputs": [],
   "source": [
    "def split_train_and_validation(t_data, t_labels, validation_index, k_fold):\n",
    "    \"\"\"\n",
    "    Splits training dataset into k and returns the validation_indexth one as the\n",
    "    validation set and others as the training set. You can assume k_fold divides N.\n",
    "    :param whole_train_data: An (N, D) shaped numpy array where N is the number of examples\n",
    "    and D is the dimension of the data\n",
    "    :param whole_train_labels: An (N, ) shaped numpy array that contains labels\n",
    "    :param validation_index: An integer. 0 <= validation_index < k_fold. Specifies which fold\n",
    "    will be assigned as validation set.\n",
    "    :param k_fold: The number of groups that the whole_train_data will be divided into.\n",
    "    :return: train_data, train_labels, validation_data, validation_labels\n",
    "    train_data.shape is (N-N/k_fold, D).\n",
    "    train_labels.shape is (N-N/k_fold, ).\n",
    "    validation_data.shape is (N/k_fold, D).\n",
    "    validation_labels.shape is (N/k_fold, ).\n",
    "    \"\"\"\n",
    "    whole_train_data = t_data\n",
    "    whole_train_labels = t_labels\n",
    "    \n",
    "    whole_train_data = whole_train_data.reshape(k_fold, whole_train_data.size//k_fold)  #reshaping so that each row is a k fold\n",
    "    whole_train_labels = whole_train_labels.reshape(k_fold, whole_train_labels.size//k_fold)  #same reason as above\n",
    "    \n",
    "    val_set = whole_train_data[validation_index]  #getting the validation data\n",
    "    val_labels = whole_train_labels[validation_index]   #getting the validation labels\n",
    "    \n",
    "    whole_train_data = np.delete(whole_train_data, validation_index, axis=0)   #deleting the validation data from the train data\n",
    "    whole_train_labels = np.delete(whole_train_labels, validation_index, axis=0)  #deleting the validation labels from the train labels\n",
    "    whole_train_data = whole_train_data.reshape(whole_train_data.size//4, 4)  #back to original shape but with less data as some of it deleted\n",
    "    whole_train_labels = whole_train_labels.flatten()  #same reason as above\n",
    "    val_set = val_set.reshape(val_set.size//4, 4)  #reshaping to the required shape\n",
    "    val_labels = val_labels.flatten()\n",
    "    \n",
    "    return whole_train_data, whole_train_labels, val_set, val_labels\n",
    "    "
   ]
  },
  {
   "cell_type": "code",
   "execution_count": 6,
   "id": "b717df54",
   "metadata": {},
   "outputs": [],
   "source": [
    "def cross_validation(whole_train_data, whole_train_labels, k_fold, k, distance_metric):\n",
    "    \"\"\"\n",
    "    Applies k_fold cross-validation and averages the calculated accuracies.\n",
    "    :param whole_train_data: An (N, D) shaped numpy array where N is the number of examples\n",
    "    and D is the dimension of the data\n",
    "    :param whole_train_labels: An (N, ) shaped numpy array that contains labels\n",
    "    :param k_fold: An integer.\n",
    "    :param k: An integer. The number of nearest neighbor to be selected.\n",
    "    :param distance_metric: A string which indicates the distance metric, it can be either 'L1' or 'L2'\n",
    "    :return: A float. Average accuracy calculated.\n",
    "    \"\"\"\n",
    "    accuracies_total = 0\n",
    "    \n",
    "    for i in range(k_fold):\n",
    "        td, tl, vd, vl = split_train_and_validation(whole_train_data, whole_train_labels, i, k_fold)\n",
    "        accuracies_total += knn(td, tl, vd, vl, k, distance_metric)\n",
    "    \n",
    "    return (accuracies_total/k_fold)\n",
    "    "
   ]
  },
  {
   "cell_type": "code",
   "execution_count": 7,
   "id": "08a719f3",
   "metadata": {},
   "outputs": [],
   "source": [
    "distance_metrics = ['L1','L2']"
   ]
  },
  {
   "cell_type": "code",
   "execution_count": 18,
   "id": "19c8447d",
   "metadata": {},
   "outputs": [
    {
     "data": {
      "image/png": "[encoded data removed]",
      "text/plain": [
       "<Figure size 432x288 with 1 Axes>"
      ]
     },
     "metadata": {
      "needs_background": "light"
     },
     "output_type": "display_data"
    },
    {
     "data": {
      "image/png": "[encoded data removed]",
      "text/plain": [
       "<Figure size 432x288 with 1 Axes>"
      ]
     },
     "metadata": {
      "needs_background": "light"
     },
     "output_type": "display_data"
    },
    {
     "name": "stdout",
     "output_type": "stream",
     "text": [
      "highest accuracy, metric, k\n",
      "0.8090909090909092 L2 13\n"
     ]
    }
   ],
   "source": [
    "highest_accuracy = 0\n",
    "ha_k = 0\n",
    "ha_metric = 'L1'\n",
    "k_values = np.empty(0)\n",
    "accuracies = np.empty(0)\n",
    "for i in range(1, 180):\n",
    "    k_values = np.append(k_values, i)\n",
    "\n",
    "for metric in distance_metrics:\n",
    "    for k in range(1, 180):\n",
    "        #print(k)\n",
    "        accuracy = cross_validation(train_s, train_l, 10, k, metric)\n",
    "        accuracies = np.append(accuracies, accuracy)\n",
    "        #print(f'Distance Metric = {metric} | K = {k} | Accuracy = {accuracy * 100}%\\n')\n",
    "        if(accuracy > highest_accuracy):\n",
    "            highest_accuracy = accuracy\n",
    "            ha_k = k\n",
    "            ha_metric = metric\n",
    "    plt.plot(k_values, accuracies)\n",
    "    plt.xlabel('k-values')\n",
    "    plt.ylabel('Average Accuracies')\n",
    "    if(metric == 'L1'):\n",
    "        plt.title('L1')\n",
    "    else:\n",
    "        plt.title('L2')\n",
    "    plt.show()\n",
    "    accuracies = np.empty(0)\n",
    "\n",
    "print(\"highest accuracy, metric, k\")\n",
    "print(highest_accuracy,ha_metric,ha_k)\n",
    "        "
   ]
  },
  {
   "cell_type": "code",
   "execution_count": 20,
   "id": "55dd9f39",
   "metadata": {},
   "outputs": [
    {
     "name": "stdout",
     "output_type": "stream",
     "text": [
      "Test Accuracy on best distance metric and k value: 0.8055555555555556\n"
     ]
    }
   ],
   "source": [
    "test_accuracy = knn(train_s, train_l, test_set, test_labels, 13, 'L2')\n",
    "print(f'Test Accuracy on best distance metric and k value: {test_accuracy}')"
   ]
  },
  {
   "cell_type": "code",
   "execution_count": null,
   "id": "d681d55e",
   "metadata": {},
   "outputs": [],
   "source": []
  }
 ],
 "metadata": {
  "kernelspec": {
   "display_name": "Python 3 (ipykernel)",
   "language": "python",
   "name": "python3"
  },
  "language_info": {
   "codemirror_mode": {
    "name": "ipython",
    "version": 3
   },
   "file_extension": ".py",
   "mimetype": "text/x-python",
   "name": "python",
   "nbconvert_exporter": "python",
   "pygments_lexer": "ipython3",
   "version": "3.8.9"
  }
 },
 "nbformat": 4,
 "nbformat_minor": 5
}
